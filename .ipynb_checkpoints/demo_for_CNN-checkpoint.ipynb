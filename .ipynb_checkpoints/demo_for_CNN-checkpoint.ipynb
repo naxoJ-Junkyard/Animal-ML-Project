{
 "cells": [
  {
   "cell_type": "markdown",
   "metadata": {
    "id": "J_pY_p6bKYUb"
   },
   "source": [
    "Building an Image Classifier using CNN"
   ]
  },
  {
   "cell_type": "markdown",
   "metadata": {
    "id": "67W7napogxyz"
   },
   "source": [
    "#Setup"
   ]
  },
  {
   "cell_type": "code",
   "execution_count": 1,
   "metadata": {
    "id": "vwVGZXLuKVrB"
   },
   "outputs": [
    {
     "ename": "ModuleNotFoundError",
     "evalue": "No module named 'tensorflow'",
     "output_type": "error",
     "traceback": [
      "\u001b[1;31m---------------------------------------------------------------------------\u001b[0m",
      "\u001b[1;31mModuleNotFoundError\u001b[0m                       Traceback (most recent call last)",
      "\u001b[1;32m~\\AppData\\Local\\Temp/ipykernel_10912/1140385879.py\u001b[0m in \u001b[0;36m<module>\u001b[1;34m\u001b[0m\n\u001b[1;32m----> 1\u001b[1;33m \u001b[1;32mimport\u001b[0m \u001b[0mtensorflow\u001b[0m \u001b[1;32mas\u001b[0m \u001b[0mtf\u001b[0m\u001b[1;33m\u001b[0m\u001b[1;33m\u001b[0m\u001b[0m\n\u001b[0m\u001b[0;32m      2\u001b[0m \u001b[1;32mfrom\u001b[0m \u001b[0mtensorflow\u001b[0m \u001b[1;32mimport\u001b[0m \u001b[0mkeras\u001b[0m\u001b[1;33m\u001b[0m\u001b[1;33m\u001b[0m\u001b[0m\n\u001b[0;32m      3\u001b[0m \u001b[1;32mimport\u001b[0m \u001b[0msklearn\u001b[0m\u001b[1;33m\u001b[0m\u001b[1;33m\u001b[0m\u001b[0m\n\u001b[0;32m      4\u001b[0m \u001b[1;32mimport\u001b[0m \u001b[0mnumpy\u001b[0m \u001b[1;32mas\u001b[0m \u001b[0mnp\u001b[0m\u001b[1;33m\u001b[0m\u001b[1;33m\u001b[0m\u001b[0m\n\u001b[0;32m      5\u001b[0m \u001b[0mnp\u001b[0m\u001b[1;33m.\u001b[0m\u001b[0mrandom\u001b[0m\u001b[1;33m.\u001b[0m\u001b[0mseed\u001b[0m\u001b[1;33m(\u001b[0m\u001b[1;36m42\u001b[0m\u001b[1;33m)\u001b[0m\u001b[1;33m\u001b[0m\u001b[1;33m\u001b[0m\u001b[0m\n",
      "\u001b[1;31mModuleNotFoundError\u001b[0m: No module named 'tensorflow'"
     ]
    }
   ],
   "source": [
    "import tensorflow as tf\n",
    "from tensorflow import keras\n",
    "import sklearn\n",
    "import numpy as np\n",
    "np.random.seed(42)\n",
    "import matplotlib as mpl\n",
    "import matplotlib.pyplot as plt"
   ]
  },
  {
   "cell_type": "markdown",
   "metadata": {
    "id": "UXZoaKUsgy_H"
   },
   "source": [
    "# Load a dataset"
   ]
  },
  {
   "cell_type": "code",
   "execution_count": 2,
   "metadata": {
    "colab": {
     "base_uri": "https://localhost:8080/"
    },
    "id": "bhjvWLfkKZiP",
    "outputId": "265df8a4-b650-4dce-9070-4394e8efdaaf"
   },
   "outputs": [
    {
     "name": "stdout",
     "output_type": "stream",
     "text": [
      "Downloading data from https://storage.googleapis.com/tensorflow/tf-keras-datasets/train-labels-idx1-ubyte.gz\n",
      "32768/29515 [=================================] - 0s 0us/step\n",
      "40960/29515 [=========================================] - 0s 0us/step\n",
      "Downloading data from https://storage.googleapis.com/tensorflow/tf-keras-datasets/train-images-idx3-ubyte.gz\n",
      "26427392/26421880 [==============================] - 0s 0us/step\n",
      "26435584/26421880 [==============================] - 0s 0us/step\n",
      "Downloading data from https://storage.googleapis.com/tensorflow/tf-keras-datasets/t10k-labels-idx1-ubyte.gz\n",
      "16384/5148 [===============================================================================================] - 0s 0us/step\n",
      "Downloading data from https://storage.googleapis.com/tensorflow/tf-keras-datasets/t10k-images-idx3-ubyte.gz\n",
      "4423680/4422102 [==============================] - 0s 0us/step\n",
      "4431872/4422102 [==============================] - 0s 0us/step\n"
     ]
    }
   ],
   "source": [
    "fashion_mnist = keras.datasets.fashion_mnist\n",
    "(X_train_full, y_train_full), (X_test, y_test) = fashion_mnist.load_data()\n",
    "X_train, X_valid = X_train_full[:-5000], X_train_full[-5000:]\n",
    "y_train, y_valid = y_train_full[:-5000], y_train_full[-5000:]\n",
    "X_test = X_test"
   ]
  },
  {
   "cell_type": "code",
   "execution_count": 3,
   "metadata": {
    "colab": {
     "base_uri": "https://localhost:8080/"
    },
    "id": "Q7YsWaDp23MJ",
    "outputId": "a596b56c-2ad3-4f13-e44e-40283c8f68ed"
   },
   "outputs": [
    {
     "data": {
      "text/plain": [
       "(60000, 28, 28)"
      ]
     },
     "execution_count": 3,
     "metadata": {},
     "output_type": "execute_result"
    }
   ],
   "source": [
    "X_train_full.shape"
   ]
  },
  {
   "cell_type": "code",
   "execution_count": 4,
   "metadata": {
    "colab": {
     "base_uri": "https://localhost:8080/"
    },
    "id": "W2-2nHSDmFig",
    "outputId": "ff49d2df-048d-4aa7-df24-f875fffe8ef6"
   },
   "outputs": [
    {
     "data": {
      "text/plain": [
       "array([9, 0, 0, ..., 9, 0, 2], dtype=uint8)"
      ]
     },
     "execution_count": 4,
     "metadata": {},
     "output_type": "execute_result"
    }
   ],
   "source": [
    "y_train"
   ]
  },
  {
   "cell_type": "markdown",
   "metadata": {
    "id": "1FzhyokYgsDL"
   },
   "source": [
    "# Build a neural network model"
   ]
  },
  {
   "cell_type": "code",
   "execution_count": 5,
   "metadata": {
    "id": "QezSHORhLhCl"
   },
   "outputs": [],
   "source": [
    "cnn = tf.keras.models.Sequential() #initializing the CNN\n",
    "cnn.add(tf.keras.layers.Conv2D(filters=64, kernel_size=7, activation=\"relu\", padding = \"same\", input_shape=[28, 28, 1])) #Convolution 1\n",
    "cnn.add(tf.keras.layers.MaxPool2D(pool_size=2, strides=2)) #Pooling 1\n",
    "cnn.add(tf.keras.layers.Conv2D(filters=128, kernel_size=3, activation=\"relu\", padding = \"same\")) #Convolution 2\n",
    "cnn.add(tf.keras.layers.Conv2D(filters=128, kernel_size=3, activation=\"relu\", padding = \"same\")) #Convolution 3\n",
    "cnn.add(tf.keras.layers.MaxPool2D(pool_size=2, strides=2)) #Pooling 2\n",
    "cnn.add(tf.keras.layers.Conv2D(filters=256, kernel_size=3, activation=\"relu\", padding = \"same\")) #Convolution 4\n",
    "cnn.add(tf.keras.layers.Conv2D(filters=256, kernel_size=3, activation=\"relu\", padding = \"same\")) #Convolution 5\n",
    "cnn.add(tf.keras.layers.MaxPool2D(pool_size=2, strides=2)) #Pooling 3\n",
    "cnn.add(tf.keras.layers.Flatten()) #Flaterning\n",
    "cnn.add(tf.keras.layers.Dense(units=128, activation=\"relu\"))#Full Connection1\n",
    "tf.keras.layers.Dropout(0.5)\n",
    "cnn.add(tf.keras.layers.Dense(units=64, activation=\"relu\"))#Full Connection2\n",
    "tf.keras.layers.Dropout(0.5)\n",
    "cnn.add(tf.keras.layers.Dense(units= 10, activation= \"softmax\"))#Output layer"
   ]
  },
  {
   "cell_type": "code",
   "execution_count": 6,
   "metadata": {
    "colab": {
     "base_uri": "https://localhost:8080/"
    },
    "id": "KXnLlnnyMBTp",
    "outputId": "c37af828-dcf8-4e98-f541-ec5507500043"
   },
   "outputs": [
    {
     "name": "stdout",
     "output_type": "stream",
     "text": [
      "Model: \"sequential\"\n",
      "_________________________________________________________________\n",
      " Layer (type)                Output Shape              Param #   \n",
      "=================================================================\n",
      " conv2d (Conv2D)             (None, 28, 28, 64)        3200      \n",
      "                                                                 \n",
      " max_pooling2d (MaxPooling2D  (None, 14, 14, 64)       0         \n",
      " )                                                               \n",
      "                                                                 \n",
      " conv2d_1 (Conv2D)           (None, 14, 14, 128)       73856     \n",
      "                                                                 \n",
      " conv2d_2 (Conv2D)           (None, 14, 14, 128)       147584    \n",
      "                                                                 \n",
      " max_pooling2d_1 (MaxPooling  (None, 7, 7, 128)        0         \n",
      " 2D)                                                             \n",
      "                                                                 \n",
      " conv2d_3 (Conv2D)           (None, 7, 7, 256)         295168    \n",
      "                                                                 \n",
      " conv2d_4 (Conv2D)           (None, 7, 7, 256)         590080    \n",
      "                                                                 \n",
      " max_pooling2d_2 (MaxPooling  (None, 3, 3, 256)        0         \n",
      " 2D)                                                             \n",
      "                                                                 \n",
      " flatten (Flatten)           (None, 2304)              0         \n",
      "                                                                 \n",
      " dense (Dense)               (None, 128)               295040    \n",
      "                                                                 \n",
      " dense_1 (Dense)             (None, 64)                8256      \n",
      "                                                                 \n",
      " dense_2 (Dense)             (None, 10)                650       \n",
      "                                                                 \n",
      "=================================================================\n",
      "Total params: 1,413,834\n",
      "Trainable params: 1,413,834\n",
      "Non-trainable params: 0\n",
      "_________________________________________________________________\n"
     ]
    }
   ],
   "source": [
    "cnn.summary()"
   ]
  },
  {
   "cell_type": "markdown",
   "metadata": {
    "id": "5er4wrp2-tYA"
   },
   "source": [
    "#compiling the model:\n"
   ]
  },
  {
   "cell_type": "code",
   "execution_count": 7,
   "metadata": {
    "id": "h2IXCeuZMO5c"
   },
   "outputs": [],
   "source": [
    "cnn.compile(loss=\"sparse_categorical_crossentropy\",\n",
    "              optimizer=\"adam\",\n",
    "              metrics=[\"accuracy\"])"
   ]
  },
  {
   "cell_type": "markdown",
   "metadata": {
    "id": "LZkLlcJ8km8u"
   },
   "source": [
    "# training neural network model:\n"
   ]
  },
  {
   "cell_type": "code",
   "execution_count": 8,
   "metadata": {
    "colab": {
     "base_uri": "https://localhost:8080/"
    },
    "id": "Qny10xHDMRZO",
    "outputId": "46cce5b5-a6a6-4a8f-d4de-4bc5f045420f"
   },
   "outputs": [
    {
     "name": "stdout",
     "output_type": "stream",
     "text": [
      "Epoch 1/5\n",
      "550/550 [==============================] - 726s 1s/step - loss: 0.5216 - accuracy: 0.8196 - val_loss: 0.2921 - val_accuracy: 0.8948\n",
      "Epoch 2/5\n",
      "550/550 [==============================] - 729s 1s/step - loss: 0.2934 - accuracy: 0.8937 - val_loss: 0.2817 - val_accuracy: 0.8994\n",
      "Epoch 3/5\n",
      "550/550 [==============================] - 729s 1s/step - loss: 0.2537 - accuracy: 0.9076 - val_loss: 0.2564 - val_accuracy: 0.9038\n",
      "Epoch 4/5\n",
      "550/550 [==============================] - 727s 1s/step - loss: 0.2279 - accuracy: 0.9158 - val_loss: 0.2604 - val_accuracy: 0.9030\n",
      "Epoch 5/5\n",
      "550/550 [==============================] - 728s 1s/step - loss: 0.2064 - accuracy: 0.9247 - val_loss: 0.2719 - val_accuracy: 0.9040\n"
     ]
    }
   ],
   "source": [
    "history = cnn.fit(X_train, y_train, batch_size = 100, epochs=5, validation_data=(X_valid, y_valid))"
   ]
  },
  {
   "cell_type": "markdown",
   "metadata": {
    "id": "Y7uFkB5YkqDU"
   },
   "source": [
    "#Evaluation\n",
    "\n"
   ]
  },
  {
   "cell_type": "code",
   "execution_count": 9,
   "metadata": {
    "colab": {
     "base_uri": "https://localhost:8080/"
    },
    "id": "iTBb_GFQNGyf",
    "outputId": "332ebabb-43ef-40c2-8b37-9b042fdafabd"
   },
   "outputs": [
    {
     "name": "stdout",
     "output_type": "stream",
     "text": [
      "313/313 [==============================] - 34s 109ms/step - loss: 0.2876 - accuracy: 0.8968\n"
     ]
    }
   ],
   "source": [
    "score = cnn.evaluate(X_test, y_test)"
   ]
  },
  {
   "cell_type": "code",
   "execution_count": 10,
   "metadata": {
    "colab": {
     "base_uri": "https://localhost:8080/"
    },
    "id": "3kGK94mIZ7qO",
    "outputId": "400089b5-9963-4dd7-e4d3-a66430e8c3a5"
   },
   "outputs": [
    {
     "name": "stdout",
     "output_type": "stream",
     "text": [
      "Total loss on Testing Set: 0.28761813044548035\n"
     ]
    }
   ],
   "source": [
    "print('Total loss on Testing Set:', score[0])"
   ]
  },
  {
   "cell_type": "code",
   "execution_count": 11,
   "metadata": {
    "colab": {
     "base_uri": "https://localhost:8080/"
    },
    "id": "H6NUJ-FGnVTY",
    "outputId": "7fed00cc-05da-4fc1-b1ec-360fce13c0ef"
   },
   "outputs": [
    {
     "name": "stdout",
     "output_type": "stream",
     "text": [
      "Accuracy of Testing Set: 0.8967999815940857\n"
     ]
    }
   ],
   "source": [
    "print('Accuracy of Testing Set:', score[1])"
   ]
  },
  {
   "cell_type": "markdown",
   "metadata": {
    "id": "pX8bZf3gBSFw"
   },
   "source": [
    "#Predicting the first three images from the test set\n",
    "\n",
    "\n",
    "1.   print the predicted results of the first three images from the test set\n",
    "2.   print the real label of the first three images from the test set\n",
    "\n"
   ]
  },
  {
   "cell_type": "code",
   "execution_count": 12,
   "metadata": {
    "colab": {
     "base_uri": "https://localhost:8080/"
    },
    "id": "Mn2B3iT6NM0S",
    "outputId": "276852bc-1f49-408e-bc67-f7f25040e5ee"
   },
   "outputs": [
    {
     "data": {
      "text/plain": [
       "array([[0., 0., 0., 0., 0., 0., 0., 0., 0., 1.],\n",
       "       [0., 0., 1., 0., 0., 0., 0., 0., 0., 0.],\n",
       "       [0., 1., 0., 0., 0., 0., 0., 0., 0., 0.]], dtype=float32)"
      ]
     },
     "execution_count": 12,
     "metadata": {},
     "output_type": "execute_result"
    }
   ],
   "source": [
    "X_new = X_test[:3]\n",
    "y_proba = cnn.predict(X_new)\n",
    "y_proba.round(2)"
   ]
  },
  {
   "cell_type": "code",
   "execution_count": 13,
   "metadata": {
    "colab": {
     "base_uri": "https://localhost:8080/"
    },
    "id": "phAhcOM8NPvu",
    "outputId": "a952464e-5566-4b1f-ec2a-d799b87bbaca"
   },
   "outputs": [
    {
     "data": {
      "text/plain": [
       "array([9, 2, 1])"
      ]
     },
     "execution_count": 13,
     "metadata": {},
     "output_type": "execute_result"
    }
   ],
   "source": [
    "#y_pred = model.predict_classes(X_new) # deprecated\n",
    "y_pred = np.argmax(cnn.predict(X_new), axis=-1)\n",
    "y_pred"
   ]
  },
  {
   "cell_type": "code",
   "execution_count": 14,
   "metadata": {
    "id": "hcYbntsn2nto"
   },
   "outputs": [],
   "source": [
    "class_names = [\"T-shirt/top\", \"Trouser\", \"Pullover\", \"Dress\", \"Coat\",\n",
    "               \"Sandal\", \"Shirt\", \"Sneaker\", \"Bag\", \"Ankle boot\"]"
   ]
  },
  {
   "cell_type": "code",
   "execution_count": 15,
   "metadata": {
    "colab": {
     "base_uri": "https://localhost:8080/"
    },
    "id": "FZsnmn-oNSPj",
    "outputId": "66ee791c-7591-4f4d-8773-0c37f4328bd5"
   },
   "outputs": [
    {
     "data": {
      "text/plain": [
       "array(['Ankle boot', 'Pullover', 'Trouser'], dtype='<U11')"
      ]
     },
     "execution_count": 15,
     "metadata": {},
     "output_type": "execute_result"
    }
   ],
   "source": [
    "np.array(class_names)[y_pred]"
   ]
  },
  {
   "cell_type": "code",
   "execution_count": 16,
   "metadata": {
    "colab": {
     "base_uri": "https://localhost:8080/"
    },
    "id": "d4Xk-vR5NUtr",
    "outputId": "ee1d8725-a1bd-499b-ef9c-b614c10a40f2"
   },
   "outputs": [
    {
     "data": {
      "text/plain": [
       "array([9, 2, 1], dtype=uint8)"
      ]
     },
     "execution_count": 16,
     "metadata": {},
     "output_type": "execute_result"
    }
   ],
   "source": [
    "y_new = y_test[:3]\n",
    "y_new"
   ]
  },
  {
   "cell_type": "code",
   "execution_count": 17,
   "metadata": {
    "colab": {
     "base_uri": "https://localhost:8080/",
     "height": 165
    },
    "id": "36LewHxE2rbJ",
    "outputId": "5d30fcd5-f1b1-4af2-e360-1fedb60afd36"
   },
   "outputs": [
    {
     "data": {
      "image/png": "[encoded data removed]",
      "text/plain": [
       "<Figure size 518.4x172.8 with 3 Axes>"
      ]
     },
     "metadata": {
      "needs_background": "light"
     },
     "output_type": "display_data"
    }
   ],
   "source": [
    "plt.figure(figsize=(7.2, 2.4))\n",
    "for index, image in enumerate(X_new):\n",
    "    plt.subplot(1, 3, index + 1)\n",
    "    plt.imshow(image, cmap=\"binary\", interpolation=\"nearest\")\n",
    "    plt.axis('off')\n",
    "    plt.title(class_names[y_test[index]], fontsize=12)\n",
    "plt.subplots_adjust(wspace=0.2, hspace=0.5)\n",
    "#save_fig('fashion_mnist_images_plot', tight_layout=False)\n",
    "plt.show()"
   ]
  }
 ],
 "metadata": {
  "colab": {
   "collapsed_sections": [],
   "name": "demo_for_CNN.ipynb",
   "provenance": []
  },
  "kernelspec": {
   "display_name": "Python 3 (ipykernel)",
   "language": "python",
   "name": "python3"
  },
  "language_info": {
   "codemirror_mode": {
    "name": "ipython",
    "version": 3
   },
   "file_extension": ".py",
   "mimetype": "text/x-python",
   "name": "python",
   "nbconvert_exporter": "python",
   "pygments_lexer": "ipython3",
   "version": "3.9.7"
  }
 },
 "nbformat": 4,
 "nbformat_minor": 1
}
